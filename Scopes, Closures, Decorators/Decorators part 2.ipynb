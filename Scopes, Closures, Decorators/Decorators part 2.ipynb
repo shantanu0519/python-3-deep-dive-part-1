{
 "cells": [
  {
   "cell_type": "markdown",
   "id": "92554345",
   "metadata": {},
   "source": [
    "Creating Decorator that can take an argument "
   ]
  },
  {
   "cell_type": "code",
   "execution_count": 11,
   "id": "6351e1be",
   "metadata": {},
   "outputs": [
    {
     "name": "stdout",
     "output_type": "stream",
     "text": [
      "Execution started\n",
      "My Function executed \n",
      "Executed ! \n",
      "sum : 15\n"
     ]
    }
   ],
   "source": [
    "def decoratorfxn(func1 , a:'Extra Parameter'):\n",
    "    def inner():\n",
    "        print(\"Execution started\")\n",
    "        sum = a + 10 # a is free variable here\n",
    "        func1()\n",
    "        print(\"Executed ! \")\n",
    "        print(\"sum : {0}\".format(sum))\n",
    "    return inner\n",
    "\n",
    "def my_function():\n",
    "    print(\"My Function executed \") \n",
    "    \n",
    "my_function = decoratorfxn(my_function , 5)  \n",
    "my_function() # calling\n",
    "\n",
    "\n",
    "\n",
    "        "
   ]
  },
  {
   "cell_type": "markdown",
   "id": "adb3ae12",
   "metadata": {},
   "source": [
    "But it dont work with @decoratorfxn(10)So rethinking solution"
   ]
  },
  {
   "cell_type": "markdown",
   "id": "f1edbbf4",
   "metadata": {},
   "source": [
    "You can do like this"
   ]
  },
  {
   "cell_type": "code",
   "execution_count": 22,
   "id": "a94e7b51",
   "metadata": {},
   "outputs": [],
   "source": [
    "# using Nested closures to solve this problem\n",
    "def outer(a):\n",
    "    def decoratorfxn(func1):\n",
    "        def inner():\n",
    "            print(\"Execution started\")\n",
    "            sum = a + 10 # a is free variable here\n",
    "            func1()\n",
    "            print(\"Executed ! \")\n",
    "            print(\"sum : {0}\".format(sum))\n",
    "        return inner\n",
    "    return decoratorfxn\n"
   ]
  },
  {
   "cell_type": "code",
   "execution_count": 23,
   "id": "a63e2897",
   "metadata": {},
   "outputs": [],
   "source": [
    "#dec = outer(10)(my_function)\n",
    "\n",
    "@outer(10)\n",
    "def my_function():\n",
    "    print(\"My Function executed \") \n"
   ]
  },
  {
   "cell_type": "code",
   "execution_count": 25,
   "id": "d21006bd",
   "metadata": {},
   "outputs": [
    {
     "name": "stdout",
     "output_type": "stream",
     "text": [
      "Execution started\n",
      "My Function executed \n",
      "Executed ! \n",
      "sum : 20\n"
     ]
    }
   ],
   "source": [
    "my_function()"
   ]
  },
  {
   "cell_type": "markdown",
   "id": "1f8194b3",
   "metadata": {},
   "source": [
    "### Decorator Application (Decorator Class)"
   ]
  },
  {
   "cell_type": "code",
   "execution_count": 26,
   "id": "c2e4d42f",
   "metadata": {},
   "outputs": [],
   "source": [
    "#parameterized decorator\n",
    "def my_dec(a, b):\n",
    "    def dec(fn):\n",
    "        def inner(*args, **kwargs):\n",
    "            print('decorated function called: a={0}, b={1}'.format(a, b))\n",
    "            return fn(*args, **kwargs)\n",
    "        return inner\n",
    "    return dec"
   ]
  },
  {
   "cell_type": "code",
   "execution_count": 27,
   "id": "85c18b36",
   "metadata": {},
   "outputs": [],
   "source": [
    "@my_dec(10, 20)\n",
    "def my_func(s):\n",
    "    print('hello {0}'.format(s))"
   ]
  },
  {
   "cell_type": "code",
   "execution_count": 28,
   "id": "5bd6d414",
   "metadata": {},
   "outputs": [
    {
     "name": "stdout",
     "output_type": "stream",
     "text": [
      "decorated function called: a=10, b=20\n",
      "hello world\n"
     ]
    }
   ],
   "source": [
    "my_func('world')"
   ]
  },
  {
   "cell_type": "code",
   "execution_count": 29,
   "id": "dabaab16",
   "metadata": {},
   "outputs": [],
   "source": [
    "class MyClass:\n",
    "    def __init__(self, a, b):\n",
    "        self.a = a\n",
    "        self.b = b\n",
    "        \n",
    "    def __call__(self):\n",
    "        print('MyClass instance called: a={0}, b={1}'.format(self.a, self.b))"
   ]
  },
  {
   "cell_type": "code",
   "execution_count": 30,
   "id": "d13c4580",
   "metadata": {},
   "outputs": [],
   "source": [
    "my_class = MyClass(10, 20)"
   ]
  },
  {
   "cell_type": "code",
   "execution_count": 31,
   "id": "a710ac6d",
   "metadata": {},
   "outputs": [
    {
     "name": "stdout",
     "output_type": "stream",
     "text": [
      "MyClass instance called: a=10, b=20\n"
     ]
    }
   ],
   "source": [
    "my_class()"
   ]
  },
  {
   "cell_type": "markdown",
   "id": "706cb779",
   "metadata": {},
   "source": [
    "####So let's modify this just a bit, and have the __call__ method be our decorator!"
   ]
  },
  {
   "cell_type": "code",
   "execution_count": 32,
   "id": "71b2de33",
   "metadata": {},
   "outputs": [],
   "source": [
    "class MyClass:\n",
    "    def __init__(self, a, b):\n",
    "        self.a = a\n",
    "        self.b = b\n",
    "        \n",
    "    def __call__(self, fn):\n",
    "        def inner(*args, **kwargs):\n",
    "            print('MyClass instance called: a={0}, b={1}'.format(self.a, self.b))\n",
    "            return fn(*args, **kwargs)\n",
    "        return inner"
   ]
  },
  {
   "cell_type": "code",
   "execution_count": 33,
   "id": "60c4b58b",
   "metadata": {},
   "outputs": [],
   "source": [
    "@MyClass(10, 20)\n",
    "def my_func(s):\n",
    "    print('Hello {0}!'.format(s))"
   ]
  },
  {
   "cell_type": "code",
   "execution_count": 35,
   "id": "5d97b2be",
   "metadata": {},
   "outputs": [
    {
     "name": "stdout",
     "output_type": "stream",
     "text": [
      "MyClass instance called: a=10, b=20\n",
      "Hello Hello World!\n"
     ]
    }
   ],
   "source": [
    "my_func(\"Hello World\")"
   ]
  },
  {
   "cell_type": "markdown",
   "id": "f08d789b",
   "metadata": {},
   "source": [
    "Remember that @MyClass(10, 20) returned an object of type MyClass. But that object is itself callable, so we could do something like:\n",
    "\n",
    "my_func = MyClass(10, 20)(my_func)\n",
    "\n",
    "or, more simply\n",
    "\n",
    "@MyClass(10, 20) def my_func(s): print(s)"
   ]
  },
  {
   "cell_type": "markdown",
   "id": "40912bc6",
   "metadata": {},
   "source": [
    "## Decorator Application: Decorating Classes\n",
    "\n"
   ]
  },
  {
   "cell_type": "code",
   "execution_count": 36,
   "id": "812254b3",
   "metadata": {},
   "outputs": [],
   "source": [
    "from datetime import datetime, timezone\n",
    "def debug_info(cls):\n",
    "    def info(self):\n",
    "        results = []\n",
    "        results.append('time: {0}'.format(datetime.now(timezone.utc)))\n",
    "        results.append('class: {0}'.format(self.__class__.__name__))\n",
    "        results.append('id: {0}'.format(hex(id(self))))\n",
    "        \n",
    "        if vars(self):\n",
    "            for k, v in vars(self).items():\n",
    "                results.append('{0}: {1}'.format(k, v))\n",
    "        \n",
    "        # we have not covered lists, the extend method and generators,\n",
    "        # but note that a more Pythonic way to do this would be:\n",
    "        #if vars(self):\n",
    "        #    results.extend('{0}: {1}'.format(k, v) \n",
    "        #                   for k, v in vars(self).items())\n",
    "        \n",
    "        return results\n",
    "    \n",
    "    cls.debug = info\n",
    "    \n",
    "    return cls"
   ]
  },
  {
   "cell_type": "code",
   "execution_count": 37,
   "id": "0d26c45b",
   "metadata": {},
   "outputs": [],
   "source": [
    "@debug_info\n",
    "class Person:\n",
    "    def __init__(self, name, birth_year):\n",
    "        self.name = name\n",
    "        self.birth_year = birth_year\n",
    "        \n",
    "    def say_hi():\n",
    "        return 'Hello there!'"
   ]
  },
  {
   "cell_type": "code",
   "execution_count": 38,
   "id": "62609007",
   "metadata": {},
   "outputs": [],
   "source": [
    "p1 = Person('John', 1939)"
   ]
  },
  {
   "cell_type": "code",
   "execution_count": 39,
   "id": "e0e80dfb",
   "metadata": {},
   "outputs": [
    {
     "data": {
      "text/plain": [
       "['time: 2023-03-05 14:57:15.003242+00:00',\n",
       " 'class: Person',\n",
       " 'id: 0x1c2f9d44c88',\n",
       " 'name: John',\n",
       " 'birth_year: 1939']"
      ]
     },
     "execution_count": 39,
     "metadata": {},
     "output_type": "execute_result"
    }
   ],
   "source": [
    "p1.debug()"
   ]
  },
  {
   "cell_type": "markdown",
   "id": "a463475e",
   "metadata": {},
   "source": [
    "## Decorator Application: Single Dispatch Generic Functions"
   ]
  },
  {
   "cell_type": "code",
   "execution_count": 40,
   "id": "a3aaf62b",
   "metadata": {},
   "outputs": [],
   "source": [
    "from html import escape\n",
    "\n",
    "def html_escape(arg):\n",
    "    return escape(str(arg))\n",
    "                      \n",
    "def html_int(a):\n",
    "    return '{0}(<i>{1}</i)'.format(a, str(hex(a)))\n",
    "\n",
    "def html_real(a):\n",
    "    return '{0:.2f}'.format(round(a, 2))\n",
    "                                  \n",
    "def html_str(s):\n",
    "    return html_escape(s).replace('\\n', '<br/>\\n')\n",
    "                                  \n",
    "def html_list(l):\n",
    "    items = ('<li>{0}</li>'.format(html_escape(item)) \n",
    "             for item in l)\n",
    "    return '<ul>\\n' + '\\n'.join(items) + '\\n</ul>'\n",
    "                                  \n",
    "def html_dict(d):\n",
    "    items = ('<li>{0}={1}</li>'.format(html_escape(k), html_escape(v)) \n",
    "             for k, v in d.items())    \n",
    "    return '<ul>\\n' + '\\n'.join(items) + '\\n</ul>'"
   ]
  },
  {
   "cell_type": "code",
   "execution_count": 41,
   "id": "60aeaddd",
   "metadata": {},
   "outputs": [
    {
     "name": "stdout",
     "output_type": "stream",
     "text": [
      "this is <br/>\n",
      "a multi line string<br/>\n",
      "with special characters: 10 &lt; 100\n"
     ]
    }
   ],
   "source": [
    "print(html_str(\"\"\"this is \n",
    "a multi line string\n",
    "with special characters: 10 < 100\"\"\"))"
   ]
  },
  {
   "cell_type": "code",
   "execution_count": null,
   "id": "d002f944",
   "metadata": {},
   "outputs": [],
   "source": []
  }
 ],
 "metadata": {
  "kernelspec": {
   "display_name": "Python 3 (ipykernel)",
   "language": "python",
   "name": "python3"
  },
  "language_info": {
   "codemirror_mode": {
    "name": "ipython",
    "version": 3
   },
   "file_extension": ".py",
   "mimetype": "text/x-python",
   "name": "python",
   "nbconvert_exporter": "python",
   "pygments_lexer": "ipython3",
   "version": "3.7.1"
  }
 },
 "nbformat": 4,
 "nbformat_minor": 5
}
