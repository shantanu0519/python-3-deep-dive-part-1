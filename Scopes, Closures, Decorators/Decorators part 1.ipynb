{
 "cells": [
  {
   "cell_type": "markdown",
   "id": "b2e1be29",
   "metadata": {},
   "source": [
    "Decorators are a very powerful and useful tool in Python since it allows programmers to modify the behaviour of a function or class. Decorators allow us to wrap another function in order to extend the behaviour of the wrapped function, without permanently modifying it. But before diving deep into decorators let us understand some concepts that will come in handy in learning the decorators."
   ]
  },
  {
   "cell_type": "code",
   "execution_count": 2,
   "id": "f60f6987",
   "metadata": {},
   "outputs": [
    {
     "name": "stdout",
     "output_type": "stream",
     "text": [
      "<class 'int'>\n"
     ]
    }
   ],
   "source": [
    "'''\n",
    "In This function we returning function under function\n",
    "'''\n",
    "\n",
    "def function1(num):\n",
    "    if num==0:\n",
    "        return print\n",
    "    if num==1:\n",
    "        return int\n",
    "a = function1(1)\n",
    "\n",
    "print(a)\n",
    "    \n"
   ]
  },
  {
   "cell_type": "code",
   "execution_count": 9,
   "id": "0a512928",
   "metadata": {},
   "outputs": [
    {
     "name": "stdout",
     "output_type": "stream",
     "text": [
      "Execution now\n",
      "Penguin lives in extream cold regions\n",
      "Executed\n"
     ]
    }
   ],
   "source": [
    "def decoratorfxn(func1):\n",
    "    def nowexec():\n",
    "        print(\"Execution now\")\n",
    "        func1() # another function executed inside another function\n",
    "        print(\"Executed\")\n",
    "    return nowexec\n",
    "\n",
    "def who_is_penguin():\n",
    "    print(\"Penguin lives in extream cold regions\")\n",
    "    \n",
    "who_is_penguin = decoratorfxn(who_is_penguin)  \n",
    "who_is_penguin() # calling\n",
    "# function who_is_penguin is passed as argument to decorator function\n",
    "\n",
    "\n",
    "        \n",
    "        \n",
    "        "
   ]
  },
  {
   "cell_type": "markdown",
   "id": "33d03f19",
   "metadata": {},
   "source": [
    "Writing decorator with @ "
   ]
  },
  {
   "cell_type": "code",
   "execution_count": 23,
   "id": "e8e449f3",
   "metadata": {},
   "outputs": [
    {
     "name": "stdout",
     "output_type": "stream",
     "text": [
      "Execution now\n",
      "Penguin lives in extream cold regions\n",
      "Executed\n"
     ]
    }
   ],
   "source": [
    "def decorator(func1):\n",
    "    def nowexec():\n",
    "        print(\"Execution now\")\n",
    "      \n",
    "        func1() # another function executed inside another function\n",
    "        print(\"Executed\")\n",
    "    return nowexec\n",
    "\n",
    "@decorator\n",
    "def who_is_penguin():    \n",
    "    print(\"Penguin lives in extream cold regions\")\n",
    "    \n",
    "    \n",
    "who_is_penguin()\n",
    "# function who_is_penguin is passed as argument to dec1 function\n",
    "\n",
    "\n",
    "        \n",
    "        "
   ]
  },
  {
   "cell_type": "code",
   "execution_count": 24,
   "id": "7834dd9d",
   "metadata": {},
   "outputs": [
    {
     "name": "stdout",
     "output_type": "stream",
     "text": [
      "nowexec\n",
      "None\n"
     ]
    }
   ],
   "source": [
    "print(who_is_penguin.__name__)\n",
    "print(who_is_penguin.__doc__)\n"
   ]
  },
  {
   "cell_type": "markdown",
   "id": "2492cae0",
   "metadata": {},
   "source": [
    "*Decorator Application (Logger , Starcked Decorators)*"
   ]
  },
  {
   "cell_type": "code",
   "execution_count": 25,
   "id": "6a4feae6",
   "metadata": {},
   "outputs": [],
   "source": [
    "#Decorartor function\n",
    "def logged(fn):\n",
    "    from functools import wraps\n",
    "    from datetime import datetime, timezone\n",
    "    \n",
    "    @wraps(fn)\n",
    "    def inner(*args, **kwargs):\n",
    "        run_dt = datetime.now(timezone.utc)\n",
    "        result = fn(*args, **kwargs)\n",
    "        print('{0}: called {1}'.format(fn.__name__, run_dt))\n",
    "        return result\n",
    "        \n",
    "    return inner"
   ]
  },
  {
   "cell_type": "code",
   "execution_count": 26,
   "id": "28f2147a",
   "metadata": {},
   "outputs": [],
   "source": [
    "@logged\n",
    "def func_1():\n",
    "    pass"
   ]
  },
  {
   "cell_type": "code",
   "execution_count": 28,
   "id": "2e45c13b",
   "metadata": {},
   "outputs": [
    {
     "name": "stdout",
     "output_type": "stream",
     "text": [
      "func_1: called 2023-03-05 08:17:00.343070+00:00\n"
     ]
    }
   ],
   "source": [
    "func_1()"
   ]
  },
  {
   "cell_type": "code",
   "execution_count": 29,
   "id": "d4c244ef",
   "metadata": {},
   "outputs": [],
   "source": [
    "#Decorator Function\n",
    "def timed(fn):\n",
    "    from functools import wraps\n",
    "    from time import perf_counter\n",
    "    \n",
    "    @wraps(fn)\n",
    "    def inner(*args, **kwargs):\n",
    "        start = perf_counter()\n",
    "        result = fn(*args, **kwargs)\n",
    "        end = perf_counter()\n",
    "        print('{0} ran for {1:.6f}s'.format(fn.__name__, end-start))\n",
    "        return result\n",
    "    \n",
    "    return inner"
   ]
  },
  {
   "cell_type": "code",
   "execution_count": 36,
   "id": "275fcd2f",
   "metadata": {},
   "outputs": [],
   "source": [
    "@timed #factorial function get passed to timed function\n",
    "@logged #factorial function get passed to  function\n",
    "\n",
    "def factorial(n):\n",
    "    from operator import mul\n",
    "    from functools import reduce\n",
    "    \n",
    "    return reduce(mul, range(1, n+1))"
   ]
  },
  {
   "cell_type": "code",
   "execution_count": 38,
   "id": "827a3f6e",
   "metadata": {},
   "outputs": [
    {
     "name": "stdout",
     "output_type": "stream",
     "text": [
      "factorial: called 2023-03-05 08:27:11.357660+00:00\n",
      "factorial ran for 0.000498s\n"
     ]
    },
    {
     "data": {
      "text/plain": [
       "3628800"
      ]
     },
     "execution_count": 38,
     "metadata": {},
     "output_type": "execute_result"
    }
   ],
   "source": [
    "factorial(10)"
   ]
  },
  {
   "cell_type": "markdown",
   "id": "8f90e3e3",
   "metadata": {},
   "source": [
    " two very simple decorators"
   ]
  },
  {
   "cell_type": "code",
   "execution_count": 39,
   "id": "ad9f4cae",
   "metadata": {},
   "outputs": [],
   "source": [
    "def dec_1(fn):\n",
    "    def inner():\n",
    "        print('running dec_1')\n",
    "        return fn()\n",
    "    return inner"
   ]
  },
  {
   "cell_type": "code",
   "execution_count": 40,
   "id": "288df88e",
   "metadata": {},
   "outputs": [],
   "source": [
    "def dec_2(fn):\n",
    "    def inner():\n",
    "        print('running dec_2')\n",
    "        return fn()\n",
    "    return inner"
   ]
  },
  {
   "cell_type": "code",
   "execution_count": 41,
   "id": "00a85fa6",
   "metadata": {},
   "outputs": [],
   "source": [
    "@dec_1\n",
    "@dec_2\n",
    "def my_func():\n",
    "    print('running my_func')"
   ]
  },
  {
   "cell_type": "code",
   "execution_count": 43,
   "id": "39d19e20",
   "metadata": {},
   "outputs": [
    {
     "name": "stdout",
     "output_type": "stream",
     "text": [
      "running dec_1\n",
      "running dec_2\n",
      "running my_func\n"
     ]
    }
   ],
   "source": [
    "my_func()"
   ]
  },
  {
   "cell_type": "code",
   "execution_count": 44,
   "id": "51e3c4d8",
   "metadata": {},
   "outputs": [],
   "source": [
    "@dec_2\n",
    "@dec_1\n",
    "def my_func():\n",
    "    print('running my_func')"
   ]
  },
  {
   "cell_type": "code",
   "execution_count": 45,
   "id": "67641e1e",
   "metadata": {},
   "outputs": [
    {
     "name": "stdout",
     "output_type": "stream",
     "text": [
      "running dec_2\n",
      "running dec_1\n",
      "running my_func\n"
     ]
    }
   ],
   "source": [
    "my_func()"
   ]
  },
  {
   "cell_type": "markdown",
   "id": "bad23886",
   "metadata": {},
   "source": [
    "You may wonder whether this really matters in practice. And yes, it can.\n",
    "\n",
    "Consider an API that contains various functions that can be called. However, endpoints are secured and can only be run by authenticated users who have some specific role(s). If they do not have the role you want to return an unauthorized error. But if they do, then you want to log that they called the endpoint.\n",
    "\n",
    "In this case you may have one decorator that is used to check authentication and permissions (and immediately return an unauthorized error from the API if applicable), and the other to log the call.\n",
    "\n",
    "If you decorated it this way:\n",
    "\n",
    "@log\n",
    "@authorize\n",
    "def my_endpoint():\n",
    "    pass\n",
    "then the call would always be logged.\n",
    "\n",
    "But, in this instance:\n",
    "\n",
    "@authorize\n",
    "@log\n",
    "def my_endpoint():\n",
    "    pass\n",
    "your endpoint would only get logged if the user passed the authorize test."
   ]
  },
  {
   "cell_type": "markdown",
   "id": "c415979a",
   "metadata": {},
   "source": [
    "### Decorators Application (Memoization)"
   ]
  },
  {
   "cell_type": "code",
   "execution_count": 48,
   "id": "a0c99ebd",
   "metadata": {},
   "outputs": [
    {
     "name": "stdout",
     "output_type": "stream",
     "text": [
      "Calculating fib(5)\n",
      "Calculating fib(4)\n",
      "Calculating fib(3)\n",
      "Calculating fib(2)\n",
      "Calculating fib(1)\n",
      "Calculating fib(2)\n",
      "Calculating fib(3)\n",
      "Calculating fib(2)\n",
      "Calculating fib(1)\n"
     ]
    },
    {
     "data": {
      "text/plain": [
       "5"
      ]
     },
     "execution_count": 48,
     "metadata": {},
     "output_type": "execute_result"
    }
   ],
   "source": [
    "#simple program\n",
    "def fib(n):\n",
    "    print ('Calculating fib({0})'.format(n))\n",
    "    return 1 if n < 3 else fib(n-1) + fib(n-2)\n",
    "\n",
    "fib(5)"
   ]
  },
  {
   "cell_type": "markdown",
   "id": "cfe9e8c3",
   "metadata": {},
   "source": [
    "'''\n",
    "It would be better if we could somehow \"store\" these results, so if we have calculated fib(4) and fib(3) before, we could simply recall the these values when calculating fib(5) = fib(4) + fib(3) instead of recalculating them.\n",
    "\n",
    "This concept of improving the efficiency of our code by caching pre-calculated values so they do not need to be re-calcualted every time, is called \"memoization\"\n",
    "\n",
    "We can approach this using a simple class and a dictionary that stores any Fibonacci number that's already been calculated:\n",
    "\n",
    "'''"
   ]
  },
  {
   "cell_type": "code",
   "execution_count": 51,
   "id": "7b030d95",
   "metadata": {},
   "outputs": [],
   "source": [
    "\n",
    "class Fib:\n",
    "    def __init__(self):\n",
    "        self.cache = {1: 1, 2: 1}\n",
    "    \n",
    "    def fib(self, n):\n",
    "        if n not in self.cache:\n",
    "            print('Calculating fib({0})'.format(n))\n",
    "            self.cache[n] = self.fib(n-1) + self.fib(n-2)\n",
    "        return self.cache[n]"
   ]
  },
  {
   "cell_type": "code",
   "execution_count": 52,
   "id": "06aa9636",
   "metadata": {},
   "outputs": [
    {
     "name": "stdout",
     "output_type": "stream",
     "text": [
      "Calculating fib(5)\n",
      "Calculating fib(4)\n",
      "Calculating fib(3)\n"
     ]
    },
    {
     "data": {
      "text/plain": [
       "5"
      ]
     },
     "execution_count": 52,
     "metadata": {},
     "output_type": "execute_result"
    }
   ],
   "source": [
    "f = Fib()\n",
    "f.fib(5)"
   ]
  },
  {
   "cell_type": "code",
   "execution_count": 53,
   "id": "a8766313",
   "metadata": {},
   "outputs": [],
   "source": [
    "#  using a closure:\n",
    "\n",
    "def fib():\n",
    "    cache = {1: 1, 2: 2}\n",
    "    \n",
    "    def calc_fib(n):\n",
    "        if n not in cache:\n",
    "            print('Calculating fib({0})'.format(n))\n",
    "            cache[n] = calc_fib(n-1) + calc_fib(n-2)\n",
    "        return cache[n]\n",
    "    \n",
    "    return calc_fib"
   ]
  },
  {
   "cell_type": "code",
   "execution_count": 54,
   "id": "a265bb0b",
   "metadata": {},
   "outputs": [],
   "source": [
    "f = fib()"
   ]
  },
  {
   "cell_type": "code",
   "execution_count": 55,
   "id": "315f704b",
   "metadata": {},
   "outputs": [
    {
     "name": "stdout",
     "output_type": "stream",
     "text": [
      "Calculating fib(5)\n",
      "Calculating fib(4)\n",
      "Calculating fib(3)\n"
     ]
    },
    {
     "data": {
      "text/plain": [
       "8"
      ]
     },
     "execution_count": 55,
     "metadata": {},
     "output_type": "execute_result"
    }
   ],
   "source": [
    "f(5)"
   ]
  },
  {
   "cell_type": "code",
   "execution_count": 56,
   "id": "c1a7e8e0",
   "metadata": {},
   "outputs": [],
   "source": [
    "# using a decorator:\n",
    "\n",
    "from functools import wraps\n",
    "\n",
    "def memoize_fib(fn):\n",
    "    cache = dict()\n",
    "    \n",
    "    @wraps(fn)\n",
    "    def inner(n):\n",
    "        if n not in cache:\n",
    "            cache[n] = fn(n)\n",
    "        return cache[n]\n",
    "    \n",
    "    return inner"
   ]
  },
  {
   "cell_type": "code",
   "execution_count": 57,
   "id": "d3f72db8",
   "metadata": {},
   "outputs": [],
   "source": [
    "@memoize_fib\n",
    "def fib(n):\n",
    "    print ('Calculating fib({0})'.format(n))\n",
    "    return 1 if n < 3 else fib(n-1) + fib(n-2)"
   ]
  },
  {
   "cell_type": "code",
   "execution_count": 58,
   "id": "8820cd20",
   "metadata": {},
   "outputs": [
    {
     "name": "stdout",
     "output_type": "stream",
     "text": [
      "Calculating fib(5)\n",
      "Calculating fib(4)\n",
      "Calculating fib(3)\n",
      "Calculating fib(2)\n",
      "Calculating fib(1)\n"
     ]
    },
    {
     "data": {
      "text/plain": [
       "5"
      ]
     },
     "execution_count": 58,
     "metadata": {},
     "output_type": "execute_result"
    }
   ],
   "source": [
    "fib(5)"
   ]
  },
  {
   "cell_type": "markdown",
   "id": "1a8b57f9",
   "metadata": {},
   "source": [
    "It's in the, you guessed it, functools module, and is called lru_cache and is going to be quite a bit more efficient compared to the rudimentary memoization example we did above.\n",
    "\n",
    "[LRU Cache = Least Recently Used caching: since the cache is not unlimited, at some point cached entries need to be discarded, and the least recently used entries are discarded first]"
   ]
  },
  {
   "cell_type": "code",
   "execution_count": 59,
   "id": "d1de0081",
   "metadata": {},
   "outputs": [],
   "source": [
    "from functools import lru_cache\n",
    "@lru_cache()\n",
    "def fact(n):\n",
    "    print(\"Calculating fact({0})\".format(n))\n",
    "    return 1 if n < 2 else n * fact(n-1)"
   ]
  },
  {
   "cell_type": "code",
   "execution_count": 60,
   "id": "73602355",
   "metadata": {},
   "outputs": [
    {
     "name": "stdout",
     "output_type": "stream",
     "text": [
      "Calculating fact(5)\n",
      "Calculating fact(4)\n",
      "Calculating fact(3)\n",
      "Calculating fact(2)\n",
      "Calculating fact(1)\n"
     ]
    },
    {
     "data": {
      "text/plain": [
       "120"
      ]
     },
     "execution_count": 60,
     "metadata": {},
     "output_type": "execute_result"
    }
   ],
   "source": [
    "fact(5)"
   ]
  },
  {
   "cell_type": "code",
   "execution_count": null,
   "id": "8de538d7",
   "metadata": {},
   "outputs": [],
   "source": []
  }
 ],
 "metadata": {
  "kernelspec": {
   "display_name": "Python 3 (ipykernel)",
   "language": "python",
   "name": "python3"
  },
  "language_info": {
   "codemirror_mode": {
    "name": "ipython",
    "version": 3
   },
   "file_extension": ".py",
   "mimetype": "text/x-python",
   "name": "python",
   "nbconvert_exporter": "python",
   "pygments_lexer": "ipython3",
   "version": "3.7.1"
  }
 },
 "nbformat": 4,
 "nbformat_minor": 5
}
