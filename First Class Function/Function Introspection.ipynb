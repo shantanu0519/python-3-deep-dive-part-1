{
 "cells": [
  {
   "cell_type": "code",
   "execution_count": 1,
   "id": "56077b53",
   "metadata": {},
   "outputs": [],
   "source": [
    " # Randomize an iterable using sorted"
   ]
  },
  {
   "cell_type": "code",
   "execution_count": 3,
   "id": "5424b94b",
   "metadata": {},
   "outputs": [],
   "source": [
    "import random\n",
    "l=[]\n",
    "for i in range(10):\n",
    "    l.append(i)\n"
   ]
  },
  {
   "cell_type": "code",
   "execution_count": 4,
   "id": "666e07cd",
   "metadata": {},
   "outputs": [
    {
     "name": "stdout",
     "output_type": "stream",
     "text": [
      "[0, 1, 2, 3, 4, 5, 6, 7, 8, 9]\n"
     ]
    }
   ],
   "source": [
    "print(l)"
   ]
  },
  {
   "cell_type": "code",
   "execution_count": 6,
   "id": "a81218fc",
   "metadata": {},
   "outputs": [
    {
     "data": {
      "text/plain": [
       "[5, 9, 6, 1, 0, 2, 7, 8, 3, 4]"
      ]
     },
     "execution_count": 6,
     "metadata": {},
     "output_type": "execute_result"
    }
   ],
   "source": [
    "sorted(l , key = lambda x: random.random())"
   ]
  },
  {
   "cell_type": "code",
   "execution_count": 8,
   "id": "2f3db1b3",
   "metadata": {},
   "outputs": [],
   "source": [
    "def my_fun():\n",
    "    pass"
   ]
  },
  {
   "cell_type": "code",
   "execution_count": 9,
   "id": "77b38413",
   "metadata": {},
   "outputs": [
    {
     "data": {
      "text/plain": [
       "['__annotations__',\n",
       " '__call__',\n",
       " '__class__',\n",
       " '__closure__',\n",
       " '__code__',\n",
       " '__defaults__',\n",
       " '__delattr__',\n",
       " '__dict__',\n",
       " '__dir__',\n",
       " '__doc__',\n",
       " '__eq__',\n",
       " '__format__',\n",
       " '__ge__',\n",
       " '__get__',\n",
       " '__getattribute__',\n",
       " '__globals__',\n",
       " '__gt__',\n",
       " '__hash__',\n",
       " '__init__',\n",
       " '__init_subclass__',\n",
       " '__kwdefaults__',\n",
       " '__le__',\n",
       " '__lt__',\n",
       " '__module__',\n",
       " '__name__',\n",
       " '__ne__',\n",
       " '__new__',\n",
       " '__qualname__',\n",
       " '__reduce__',\n",
       " '__reduce_ex__',\n",
       " '__repr__',\n",
       " '__setattr__',\n",
       " '__sizeof__',\n",
       " '__str__',\n",
       " '__subclasshook__']"
      ]
     },
     "execution_count": 9,
     "metadata": {},
     "output_type": "execute_result"
    }
   ],
   "source": [
    "dir(my_fun)"
   ]
  },
  {
   "cell_type": "code",
   "execution_count": 10,
   "id": "7671fc25",
   "metadata": {},
   "outputs": [
    {
     "name": "stdout",
     "output_type": "stream",
     "text": [
      "Help on function my_fun in module __main__:\n",
      "\n",
      "my_fun()\n",
      "\n"
     ]
    }
   ],
   "source": [
    " help(my_fun)  \n",
    "    "
   ]
  },
  {
   "cell_type": "code",
   "execution_count": 11,
   "id": "940c9813",
   "metadata": {},
   "outputs": [],
   "source": [
    "#function Introspection"
   ]
  },
  {
   "cell_type": "code",
   "execution_count": 19,
   "id": "02ff9966",
   "metadata": {},
   "outputs": [],
   "source": [
    "def fun(a: \"string \" ,\n",
    "        b: \"int\" ,\n",
    "        *args) -> \"this is a testing function\":\n",
    "        pass\n",
    "    \n",
    "    \n"
   ]
  },
  {
   "cell_type": "code",
   "execution_count": 21,
   "id": "c30472b7",
   "metadata": {},
   "outputs": [
    {
     "data": {
      "text/plain": [
       "{'a': 'string ', 'b': 'int', 'return': 'this is a testing function'}"
      ]
     },
     "execution_count": 21,
     "metadata": {},
     "output_type": "execute_result"
    }
   ],
   "source": [
    "fun.__annotations__"
   ]
  },
  {
   "cell_type": "code",
   "execution_count": 22,
   "id": "b32c2f8a",
   "metadata": {},
   "outputs": [
    {
     "data": {
      "text/plain": [
       "'fun'"
      ]
     },
     "execution_count": 22,
     "metadata": {},
     "output_type": "execute_result"
    }
   ],
   "source": [
    "fun.__name__"
   ]
  },
  {
   "cell_type": "code",
   "execution_count": 23,
   "id": "18bec7ea",
   "metadata": {},
   "outputs": [],
   "source": [
    "from inspect import *\n"
   ]
  },
  {
   "cell_type": "code",
   "execution_count": 30,
   "id": "f848da37",
   "metadata": {},
   "outputs": [
    {
     "data": {
      "text/plain": [
       "True"
      ]
     },
     "execution_count": 30,
     "metadata": {},
     "output_type": "execute_result"
    }
   ],
   "source": [
    "a =10\n",
    "x=lambda x: x+5\n",
    "isfunction(x)\n",
    "\n",
    "\n"
   ]
  },
  {
   "cell_type": "code",
   "execution_count": null,
   "id": "f07a3b58",
   "metadata": {},
   "outputs": [],
   "source": []
  },
  {
   "cell_type": "code",
   "execution_count": null,
   "id": "559eae7b",
   "metadata": {},
   "outputs": [],
   "source": []
  }
 ],
 "metadata": {
  "kernelspec": {
   "display_name": "Python 3 (ipykernel)",
   "language": "python",
   "name": "python3"
  },
  "language_info": {
   "codemirror_mode": {
    "name": "ipython",
    "version": 3
   },
   "file_extension": ".py",
   "mimetype": "text/x-python",
   "name": "python",
   "nbconvert_exporter": "python",
   "pygments_lexer": "ipython3",
   "version": "3.7.1"
  }
 },
 "nbformat": 4,
 "nbformat_minor": 5
}
