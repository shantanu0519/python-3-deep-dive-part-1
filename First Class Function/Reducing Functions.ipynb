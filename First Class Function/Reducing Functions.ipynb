{
 "cells": [
  {
   "cell_type": "markdown",
   "id": "8b4098c9",
   "metadata": {},
   "source": [
    "**Reducing Functions**"
   ]
  },
  {
   "cell_type": "code",
   "execution_count": 1,
   "id": "7f845ad6",
   "metadata": {},
   "outputs": [],
   "source": [
    " l = [1,2,3]\n",
    "    \n",
    "max=lambda a,b : a if a>b else b\n",
    "\n",
    "def maxfun(sequence):\n",
    "    result = sequence[0]\n",
    "    for e in sequence[1:]:\n",
    "        result = max(result ,e)\n",
    "        return result"
   ]
  },
  {
   "cell_type": "markdown",
   "id": "5984730b",
   "metadata": {},
   "source": [
    "The reduce(fun,seq) function is used to apply a particular function passed in its argument to all of the list elements mentioned in the sequence passed along.This function is defined in “functools” module.\n",
    "\n",
    "Working :  \n",
    "\n",
    "At first step, first two elements of sequence are picked and the result is obtained.\n",
    "Next step is to apply the same function to the previously attained result and the number just succeeding the second element and the result is again stored.\n",
    "This process continues till no more elements are left in the container.\n",
    "The final returned result is returned and printed on console."
   ]
  },
  {
   "cell_type": "code",
   "execution_count": 3,
   "id": "49068f8b",
   "metadata": {},
   "outputs": [
    {
     "data": {
      "text/plain": [
       "2"
      ]
     },
     "execution_count": 3,
     "metadata": {},
     "output_type": "execute_result"
    }
   ],
   "source": [
    "from functools import reduce\n",
    "l = [5,8,6,10,9]\n",
    "\n",
    "reduce(lambda a,b: a if a<b else b, {10,5,2,4,})"
   ]
  },
  {
   "cell_type": "code",
   "execution_count": null,
   "id": "47744471",
   "metadata": {},
   "outputs": [],
   "source": []
  }
 ],
 "metadata": {
  "kernelspec": {
   "display_name": "Python 3 (ipykernel)",
   "language": "python",
   "name": "python3"
  },
  "language_info": {
   "codemirror_mode": {
    "name": "ipython",
    "version": 3
   },
   "file_extension": ".py",
   "mimetype": "text/x-python",
   "name": "python",
   "nbconvert_exporter": "python",
   "pygments_lexer": "ipython3",
   "version": "3.7.1"
  }
 },
 "nbformat": 4,
 "nbformat_minor": 5
}
