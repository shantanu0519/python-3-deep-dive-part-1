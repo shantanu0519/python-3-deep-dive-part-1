{
 "cells": [
  {
   "cell_type": "code",
   "execution_count": null,
   "id": "197368b1",
   "metadata": {},
   "outputs": [],
   "source": [
    "###Args \n",
    "'''\n",
    "It is used to pass variable no of arguments to a function\n",
    "\n",
    "'''"
   ]
  },
  {
   "cell_type": "code",
   "execution_count": 2,
   "id": "e54f508d",
   "metadata": {},
   "outputs": [
    {
     "name": "stdout",
     "output_type": "stream",
     "text": [
      "1 2 hello bye goodbye\n"
     ]
    }
   ],
   "source": [
    "def fun(a,b, *args):\n",
    "    return print(a,b,*args)\n",
    "\n",
    "fun(1,2,\"hello\",\"bye\",\"goodbye\")"
   ]
  },
  {
   "cell_type": "code",
   "execution_count": null,
   "id": "1be4090d",
   "metadata": {},
   "outputs": [],
   "source": [
    "'''\n",
    "The special syntax **kwargs in function definitions in python is used to pass a keyworded, variable-length argument list.\n",
    "We use the name kwargs with the double star. \n",
    "The reason is that the double star allows us to pass through keyword arguments (and any number of them).\n",
    "\n",
    "Positional arguments must be included in the correct order. Keyword arguments are included with a keyword and equals sign.\n",
    "'''"
   ]
  },
  {
   "cell_type": "code",
   "execution_count": 6,
   "id": "56ae3b5d",
   "metadata": {},
   "outputs": [
    {
     "data": {
      "text/plain": [
       "{'first': 'Geeks', 'mid': 'for', 'last': 'Geeks'}"
      ]
     },
     "execution_count": 6,
     "metadata": {},
     "output_type": "execute_result"
    }
   ],
   "source": [
    "\n",
    "def myFun(**kwargs):\n",
    "    return kwargs\n",
    "  \n",
    "  \n",
    "# Driver code\n",
    "myFun(first='Geeks', mid='for', last='Geeks')"
   ]
  },
  {
   "cell_type": "code",
   "execution_count": null,
   "id": "85324f8b",
   "metadata": {},
   "outputs": [],
   "source": [
    "\" A simple function timer \"\n",
    "'''With this function we can compute the time of any function it takes while running'''"
   ]
  },
  {
   "cell_type": "code",
   "execution_count": 10,
   "id": "25538a3b",
   "metadata": {},
   "outputs": [
    {
     "name": "stdout",
     "output_type": "stream",
     "text": [
      "(1, 2, 3, 4, 5, 6)\n"
     ]
    },
    {
     "data": {
      "text/plain": [
       "'time taken 0.00010879999990720535'"
      ]
     },
     "execution_count": 10,
     "metadata": {},
     "output_type": "execute_result"
    }
   ],
   "source": [
    "import time\n",
    "def time_it(fn , *args):\n",
    "    start = time.perf_counter()\n",
    "    fn(args)\n",
    "    end = time.perf_counter()\n",
    "    return \"time taken {0}\".format((end-start))\n",
    "    \n",
    "time_it(print , 1,2,3,4,5,6)"
   ]
  },
  {
   "cell_type": "code",
   "execution_count": 11,
   "id": "36d04405",
   "metadata": {},
   "outputs": [
    {
     "name": "stdout",
     "output_type": "stream",
     "text": [
      "calculating 5!\n",
      "calculating 4!\n",
      "calculating 3!\n",
      "calculating 2!\n",
      "calculating 1!\n"
     ]
    },
    {
     "data": {
      "text/plain": [
       "120"
      ]
     },
     "execution_count": 11,
     "metadata": {},
     "output_type": "execute_result"
    }
   ],
   "source": [
    "def factorial(n):\n",
    "    if n < 1:\n",
    "        return 1\n",
    "    else:\n",
    "        print('calculating {0}!'.format(n))\n",
    "        return n * factorial(n-1)\n",
    "factorial(5)"
   ]
  },
  {
   "cell_type": "code",
   "execution_count": null,
   "id": "cb9698df",
   "metadata": {},
   "outputs": [],
   "source": []
  }
 ],
 "metadata": {
  "kernelspec": {
   "display_name": "Python 3 (ipykernel)",
   "language": "python",
   "name": "python3"
  },
  "language_info": {
   "codemirror_mode": {
    "name": "ipython",
    "version": 3
   },
   "file_extension": ".py",
   "mimetype": "text/x-python",
   "name": "python",
   "nbconvert_exporter": "python",
   "pygments_lexer": "ipython3",
   "version": "3.7.1"
  }
 },
 "nbformat": 4,
 "nbformat_minor": 5
}
