{
 "cells": [
  {
   "cell_type": "code",
   "execution_count": 4,
   "id": "2c3db6cb",
   "metadata": {},
   "outputs": [
    {
     "name": "stdout",
     "output_type": "stream",
     "text": [
      "[1, 4, 9]\n"
     ]
    }
   ],
   "source": [
    "# Map function syntax\n",
    "'''\n",
    "map(function , iterable)\n",
    "'''\n",
    "\n",
    "l = [1,2,3]\n",
    "\n",
    "def sq(a):\n",
    "    return a**2\n",
    "\n",
    "x = list(map(sq , l))\n",
    "print(x)"
   ]
  },
  {
   "cell_type": "code",
   "execution_count": 5,
   "id": "5e6a96a8",
   "metadata": {},
   "outputs": [
    {
     "name": "stdout",
     "output_type": "stream",
     "text": [
      "[5, 7, 9]\n"
     ]
    }
   ],
   "source": [
    "\n",
    "l = [1,2,3]\n",
    "l2 = [4,5,6]\n",
    "\n",
    "def sq(a):\n",
    "    return a**2\n",
    "\n",
    "def add(a,b):\n",
    "    return a+b\n",
    "\n",
    "x = list(map(add , l,l2))\n",
    "print(x)"
   ]
  },
  {
   "cell_type": "markdown",
   "id": "5aa51071",
   "metadata": {},
   "source": [
    "**filter Function**\n"
   ]
  },
  {
   "cell_type": "code",
   "execution_count": null,
   "id": "a93097ba",
   "metadata": {},
   "outputs": [],
   "source": [
    "l = [1,2,3,4]\n",
    "\n",
    "def even(a):\n",
    "    return a%2==0\n",
    "\n",
    "x = list(filter(even , l))\n",
    "print(x)\n",
    "    \n",
    "    "
   ]
  },
  {
   "cell_type": "markdown",
   "id": "95d4cdca",
   "metadata": {},
   "source": [
    "**Zip function**"
   ]
  },
  {
   "cell_type": "code",
   "execution_count": 8,
   "id": "f9fc8179",
   "metadata": {},
   "outputs": [
    {
     "name": "stdout",
     "output_type": "stream",
     "text": [
      "[(1, 4), (2, 5), (3, 6)]\n"
     ]
    }
   ],
   "source": [
    "l = [1,2,3]\n",
    "l2 = [4,5,6]\n",
    "\n",
    "x=list(zip(l , l2))\n",
    "print(x)"
   ]
  },
  {
   "cell_type": "markdown",
   "id": "1e3adeb5",
   "metadata": {},
   "source": [
    "**List compression**"
   ]
  },
  {
   "cell_type": "code",
   "execution_count": 9,
   "id": "30fef9f6",
   "metadata": {},
   "outputs": [
    {
     "name": "stdout",
     "output_type": "stream",
     "text": [
      "[1, 4, 16]\n"
     ]
    }
   ],
   "source": [
    "l = [1,2,4]\n",
    "result = []\n",
    "for x in l:\n",
    "    result.append(x**2)\n",
    "    \n",
    "print(result)\n",
    "    "
   ]
  },
  {
   "cell_type": "code",
   "execution_count": null,
   "id": "e0db66c8",
   "metadata": {},
   "outputs": [],
   "source": []
  }
 ],
 "metadata": {
  "kernelspec": {
   "display_name": "Python 3 (ipykernel)",
   "language": "python",
   "name": "python3"
  },
  "language_info": {
   "codemirror_mode": {
    "name": "ipython",
    "version": 3
   },
   "file_extension": ".py",
   "mimetype": "text/x-python",
   "name": "python",
   "nbconvert_exporter": "python",
   "pygments_lexer": "ipython3",
   "version": "3.7.1"
  }
 },
 "nbformat": 4,
 "nbformat_minor": 5
}
