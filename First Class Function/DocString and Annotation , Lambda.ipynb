{
 "cells": [
  {
   "cell_type": "code",
   "execution_count": 2,
   "id": "f93a178d",
   "metadata": {},
   "outputs": [
    {
     "data": {
      "text/plain": [
       "'my \\nname \\n is shantanu\\n'"
      ]
     },
     "execution_count": 2,
     "metadata": {},
     "output_type": "execute_result"
    }
   ],
   "source": [
    "# Docstring \n",
    "\n",
    "'''my \n",
    "name \n",
    " is shantanu\n",
    "'''\n"
   ]
  },
  {
   "cell_type": "code",
   "execution_count": null,
   "id": "8673ffa9",
   "metadata": {},
   "outputs": [],
   "source": [
    "'''Function annotations with strings can be used as messages at \n",
    "compile time to describe the functionality of different methods,\n",
    "classes and variables.'''"
   ]
  },
  {
   "cell_type": "code",
   "execution_count": 11,
   "id": "6c11c649",
   "metadata": {},
   "outputs": [
    {
     "data": {
      "text/plain": [
       "'aaaaa'"
      ]
     },
     "execution_count": 11,
     "metadata": {},
     "output_type": "execute_result"
    }
   ],
   "source": [
    "x=4\n",
    "y=5\n",
    "def my_fun(a : 'some character') -> 'character a repeated'+str(max(x,y))+' times':\n",
    "    return a*max(x,y)\n",
    "\n",
    "my_fun('a')"
   ]
  },
  {
   "cell_type": "code",
   "execution_count": 12,
   "id": "e3ca4fdc",
   "metadata": {},
   "outputs": [
    {
     "data": {
      "text/plain": [
       "<function __main__.my_fun(a: 'some character') -> 'character a repeated5 times'>"
      ]
     },
     "execution_count": 12,
     "metadata": {},
     "output_type": "execute_result"
    }
   ],
   "source": [
    "my_fun\n"
   ]
  },
  {
   "cell_type": "code",
   "execution_count": 14,
   "id": "49ae6d0d",
   "metadata": {},
   "outputs": [
    {
     "name": "stdout",
     "output_type": "stream",
     "text": [
      "Help on function my_fun in module __main__:\n",
      "\n",
      "my_fun(a: 'some character') -> 'character a repeated5 times'\n",
      "\n"
     ]
    }
   ],
   "source": [
    "help(my_fun)"
   ]
  },
  {
   "cell_type": "code",
   "execution_count": null,
   "id": "86dd952c",
   "metadata": {},
   "outputs": [],
   "source": [
    "# Lambda Expression"
   ]
  },
  {
   "cell_type": "code",
   "execution_count": 15,
   "id": "9877f092",
   "metadata": {},
   "outputs": [
    {
     "name": "stdout",
     "output_type": "stream",
     "text": [
      "30\n"
     ]
    }
   ],
   "source": [
    "x = lambda x,y:x*y\n",
    "print(x(5,6))"
   ]
  },
  {
   "cell_type": "code",
   "execution_count": 16,
   "id": "53475547",
   "metadata": {},
   "outputs": [
    {
     "name": "stdout",
     "output_type": "stream",
     "text": [
      "Help on built-in function sorted in module builtins:\n",
      "\n",
      "sorted(iterable, /, *, key=None, reverse=False)\n",
      "    Return a new list containing all items from the iterable in ascending order.\n",
      "    \n",
      "    A custom key function can be supplied to customize the sort order, and the\n",
      "    reverse flag can be set to request the result in descending order.\n",
      "\n"
     ]
    }
   ],
   "source": [
    "help(sorted)"
   ]
  },
  {
   "cell_type": "code",
   "execution_count": 17,
   "id": "4a4420e5",
   "metadata": {},
   "outputs": [
    {
     "data": {
      "text/plain": [
       "[1, 2, 2, 4, 5, 6, 8]"
      ]
     },
     "execution_count": 17,
     "metadata": {},
     "output_type": "execute_result"
    }
   ],
   "source": [
    "l = [6,4,2,8,5,2,1]\n",
    "sorted(l)"
   ]
  },
  {
   "cell_type": "code",
   "execution_count": 9,
   "id": "46ec4b7f",
   "metadata": {},
   "outputs": [
    {
     "name": "stdout",
     "output_type": "stream",
     "text": [
      "0.30000000000000004\n",
      "0.3\n"
     ]
    },
    {
     "data": {
      "text/plain": [
       "False"
      ]
     },
     "execution_count": 9,
     "metadata": {},
     "output_type": "execute_result"
    }
   ],
   "source": [
    "x=0.1+0.1+0.1\n",
    "y=0.3\n",
    "print(x)\n",
    "print(y)\n",
    "x==y"
   ]
  },
  {
   "cell_type": "code",
   "execution_count": 7,
   "id": "6bc3f789",
   "metadata": {},
   "outputs": [
    {
     "name": "stdout",
     "output_type": "stream",
     "text": [
      "memory location of x: 1563533305536 and Y: 1563533305776\n"
     ]
    }
   ],
   "source": [
    "print('memory location of x: {0} and Y: {1}'.format(id(x),id(y)))"
   ]
  },
  {
   "cell_type": "code",
   "execution_count": null,
   "id": "35107b52",
   "metadata": {},
   "outputs": [],
   "source": []
  },
  {
   "cell_type": "code",
   "execution_count": null,
   "id": "63f76dd1",
   "metadata": {},
   "outputs": [],
   "source": []
  }
 ],
 "metadata": {
  "kernelspec": {
   "display_name": "Python 3 (ipykernel)",
   "language": "python",
   "name": "python3"
  },
  "language_info": {
   "codemirror_mode": {
    "name": "ipython",
    "version": 3
   },
   "file_extension": ".py",
   "mimetype": "text/x-python",
   "name": "python",
   "nbconvert_exporter": "python",
   "pygments_lexer": "ipython3",
   "version": "3.7.1"
  }
 },
 "nbformat": 4,
 "nbformat_minor": 5
}
