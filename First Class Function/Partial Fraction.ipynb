{
 "cells": [
  {
   "cell_type": "markdown",
   "id": "ef4bc316",
   "metadata": {},
   "source": [
    "***Partial Fraction ***"
   ]
  },
  {
   "cell_type": "code",
   "execution_count": 2,
   "id": "5d7e2748",
   "metadata": {},
   "outputs": [],
   "source": [
    "from functools import partial"
   ]
  },
  {
   "cell_type": "code",
   "execution_count": 3,
   "id": "c49483f1",
   "metadata": {},
   "outputs": [
    {
     "name": "stdout",
     "output_type": "stream",
     "text": [
      "10 23 45\n"
     ]
    }
   ],
   "source": [
    "def myfun(a,b,c):\n",
    "    print(a,b,c)\n",
    "    \n",
    "def fn(b,c):\n",
    "    return myfun(10 , b ,c)\n",
    "\n",
    "fn(23,45)"
   ]
  },
  {
   "cell_type": "code",
   "execution_count": null,
   "id": "70710fa3",
   "metadata": {},
   "outputs": [],
   "source": []
  }
 ],
 "metadata": {
  "kernelspec": {
   "display_name": "Python 3 (ipykernel)",
   "language": "python",
   "name": "python3"
  },
  "language_info": {
   "codemirror_mode": {
    "name": "ipython",
    "version": 3
   },
   "file_extension": ".py",
   "mimetype": "text/x-python",
   "name": "python",
   "nbconvert_exporter": "python",
   "pygments_lexer": "ipython3",
   "version": "3.7.1"
  }
 },
 "nbformat": 4,
 "nbformat_minor": 5
}
